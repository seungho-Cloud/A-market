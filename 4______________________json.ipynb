{
  "cells": [
    {
      "cell_type": "markdown",
      "metadata": {
        "id": "view-in-github",
        "colab_type": "text"
      },
      "source": [
        "<a href=\"https://colab.research.google.com/github/seungho-Cloud/A-market/blob/master/4______________________json.ipynb\" target=\"_parent\"><img src=\"https://colab.research.google.com/assets/colab-badge.svg\" alt=\"Open In Colab\"/></a>"
      ]
    },
    {
      "cell_type": "markdown",
      "metadata": {
        "id": "LV_-2Umu_t7K"
      },
      "source": [
        "# ※ 과제 안내\n",
        "- 과제 배점: 각 문제당 10점, 총점 100점입니다. 부분 점수는 제공되지 않습니다.  \n",
        "\n",
        "- 채점 기준:  \n",
        "    - 출력 결과 일치: 제출한 코드가 제시된 출력 결과와 일치하는 경우에만 정답으로 인정됩니다.  \n",
        "    - 코드의 다양성 인정: 출력 결과가 동일하다면 다양한 접근 방식을 존중하여 정답으로 인정합니다."
      ]
    },
    {
      "cell_type": "markdown",
      "metadata": {
        "id": "ZYYYImPN_t7O"
      },
      "source": [
        "---\n",
        "# 4주차 과제"
      ]
    },
    {
      "cell_type": "code",
      "execution_count": 2,
      "metadata": {
        "id": "1b9IvHB3_t7P"
      },
      "outputs": [],
      "source": [
        "import warnings\n",
        "warnings.filterwarnings('ignore')"
      ]
    },
    {
      "cell_type": "markdown",
      "metadata": {
        "id": "ltbKST0x_t7R"
      },
      "source": [
        "---\n",
        "# Q1. 단순 선형 회귀"
      ]
    },
    {
      "cell_type": "code",
      "execution_count": 5,
      "metadata": {
        "colab": {
          "base_uri": "https://localhost:8080/",
          "height": 509
        },
        "id": "pxI55xlo_t7R",
        "outputId": "458c689b-1165-4861-9129-3b74faff9a7f"
      },
      "outputs": [
        {
          "output_type": "stream",
          "name": "stdout",
          "text": [
            "기울기 (Slope): 2.0\n",
            "절편 (Intercept): 0.0\n"
          ]
        },
        {
          "output_type": "display_data",
          "data": {
            "text/plain": [
              "<Figure size 640x480 with 1 Axes>"
            ],
            "image/png": "[encoded data removed]"
          },
          "metadata": {}
        }
      ],
      "source": [
        "# Q1: 단순 선형 회귀\n",
        "# 참고자료: 배상민 강사님 실습 강의자료 / regression / [practice]_Linear_Regression_Answer.ipynb\n",
        "\n",
        "# 주어진 데이터셋을 사용해 단순 선형 회귀 모델을 학습하세요.\n",
        "# 학습된 모델의 기울기와 절편을 출력하고, 회귀선을 시각화하세요.\n",
        "\n",
        "import numpy as np\n",
        "import matplotlib.pyplot as plt\n",
        "from sklearn.linear_model import LinearRegression\n",
        "\n",
        "# 데이터 생성\n",
        "X = np.array([1, 2, 3, 4, 5]).reshape(-1, 1)\n",
        "y = np.array([2, 4, 6, 8, 10])  # y = 2x\n",
        "\n",
        "# 모델 학습\n",
        "model = LinearRegression()\n",
        "'''답안 작성 시작'''\n",
        "model.fit(X,y)\n",
        "'''답안 작성 끝'''\n",
        "\n",
        "# 기울기와 절편 출력\n",
        "'''답안 작성 시작'''\n",
        "print(\"기울기 (Slope):\", model.coef_[0])\n",
        "print(\"절편 (Intercept):\", model.intercept_)\n",
        "'''답안 작성 끝'''\n",
        "\n",
        "# 회귀선 시각화\n",
        "'''답안 작성 시작'''\n",
        "y_pred = model.predict(X)\n",
        "'''답안 작성 끝'''\n",
        "plt.scatter(X, y, color='blue', label='Data points')\n",
        "plt.plot(X, y_pred, color='red', label='Regression Line')\n",
        "plt.xlabel(\"X\")\n",
        "plt.ylabel(\"y\")\n",
        "plt.title(\"Simple Linear Regression\")\n",
        "plt.legend()\n",
        "plt.show()\n"
      ]
    },
    {
      "cell_type": "markdown",
      "metadata": {
        "id": "ms-m-Tw7_t7V"
      },
      "source": [
        "---\n",
        "# Q2. 다중 선형 회귀"
      ]
    },
    {
      "cell_type": "code",
      "execution_count": 6,
      "metadata": {
        "colab": {
          "base_uri": "https://localhost:8080/",
          "height": 72
        },
        "id": "mMIWQBZH_t7W",
        "outputId": "3704e00e-44d6-4127-81ab-a0b23e05d544"
      },
      "outputs": [
        {
          "output_type": "stream",
          "name": "stdout",
          "text": [
            "가중치 (Weights): [1. 2.]\n",
            "절편 (Intercept): 5.329070518200751e-15\n"
          ]
        },
        {
          "output_type": "execute_result",
          "data": {
            "text/plain": [
              "'답안 작성 끝'"
            ],
            "application/vnd.google.colaboratory.intrinsic+json": {
              "type": "string"
            }
          },
          "metadata": {},
          "execution_count": 6
        }
      ],
      "source": [
        "# Q2: 다중 선형 회귀\n",
        "# 참고자료: 배상민 강사님 실습 강의자료 / regression / [practice]_Linear_Regression_Answer.ipynb\n",
        "\n",
        "# 다중 독립 변수를 사용한 다중 선형 회귀 모델을 학습하세요.\n",
        "# 학습된 모델의 가중치와 절편을 출력하세요.\n",
        "\n",
        "from sklearn.linear_model import LinearRegression\n",
        "\n",
        "# 데이터 생성\n",
        "X = np.array([[1, 2], [2, 4], [3, 6], [4, 8], [5, 10]])  # 독립 변수\n",
        "y = np.array([5, 10, 15, 20, 25])  # y = x1 + x2\n",
        "\n",
        "# 모델 학습\n",
        "'''답안 작성 시작'''\n",
        "model = LinearRegression()\n",
        "model.fit(X, y)\n",
        "'''답안 작성 끝'''\n",
        "\n",
        "# 가중치와 절편 출력\n",
        "'''답안 작성 시작'''\n",
        "print(\"가중치 (Weights):\", model.coef_)\n",
        "print(\"절편 (Intercept):\", model.intercept_)\n",
        "'''답안 작성 끝'''"
      ]
    },
    {
      "cell_type": "markdown",
      "metadata": {
        "id": "H0X4hu4Z_t7W"
      },
      "source": [
        "---\n",
        "# Q3. 다항 회귀"
      ]
    },
    {
      "cell_type": "code",
      "execution_count": 7,
      "metadata": {
        "colab": {
          "base_uri": "https://localhost:8080/"
        },
        "id": "MjavsIc__t7X",
        "outputId": "0ba21048-7d1c-46ab-be3c-32cade5d3a9e"
      },
      "outputs": [
        {
          "output_type": "stream",
          "name": "stdout",
          "text": [
            "MSE: 1.5146129380243426e-29\n"
          ]
        }
      ],
      "source": [
        "# Q3: 다항 회귀\n",
        "# 참고자료: 배상민 강사님 실습 강의자료 / regression / [assignment]_Polynomial_Regression_Answer.ipynb\n",
        "\n",
        "# 2차 다항 회귀를 학습시키고, 선형 회귀와 비교하세요.\n",
        "\n",
        "from sklearn.preprocessing import PolynomialFeatures\n",
        "from sklearn.linear_model import LinearRegression\n",
        "from sklearn.metrics import mean_squared_error\n",
        "\n",
        "# 데이터 생성\n",
        "X = np.array([1, 2, 3, 4, 5]).reshape(-1, 1)\n",
        "y = np.array([1, 4, 9, 16, 25])  # y = x^2\n",
        "\n",
        "# 다항 회귀 데이터 변환\n",
        "'''답안 작성 시작'''\n",
        "poly = PolynomialFeatures(degree=2)\n",
        "X_poly = poly.fit_transform(X)\n",
        "'''답안 작성 끝'''\n",
        "\n",
        "# 모델 학습\n",
        "model_poly = LinearRegression()\n",
        "'''답안 작성 시작'''\n",
        "model_poly.fit(X_poly, y)\n",
        "'''답안 작성 끝'''\n",
        "\n",
        "# 예측값\n",
        "'''답안 작성 시작'''\n",
        "y_pred = model_poly.predict(X_poly)\n",
        "'''답안 작성 끝'''\n",
        "\n",
        "# 성능 평가\n",
        "print(\"MSE:\", mean_squared_error(y, y_pred))"
      ]
    },
    {
      "cell_type": "markdown",
      "metadata": {
        "id": "taSEVraWzAUW"
      },
      "source": [
        "---\n",
        "# Q4. 데이터 분리와 모델 학습"
      ]
    },
    {
      "cell_type": "code",
      "execution_count": 8,
      "metadata": {
        "colab": {
          "base_uri": "https://localhost:8080/"
        },
        "id": "olwb-tSz_t7Y",
        "outputId": "e3739da6-e8fb-4923-d973-393e27aff5fd"
      },
      "outputs": [
        {
          "output_type": "stream",
          "name": "stdout",
          "text": [
            "테스트 데이터 MSE: 0.0\n"
          ]
        }
      ],
      "source": [
        "# Q4: 데이터 분리와 모델 학습\n",
        "# 참고자료: 배상민 강사님 이론 강의자료 / 머신러닝 1. 회귀.pdf\n",
        "\n",
        "# 학습 데이터와 테스트 데이터로 나눠 모델을 학습하고, 테스트 데이터의 MSE를 계산하세요.\n",
        "\n",
        "from sklearn.model_selection import train_test_split\n",
        "from sklearn.linear_model import LinearRegression\n",
        "from sklearn.metrics import mean_squared_error\n",
        "\n",
        "# 데이터 생성\n",
        "X = np.array([[1], [2], [3], [4], [5], [6], [7], [8], [9], [10]])\n",
        "y = np.array([3, 6, 9, 12, 15, 18, 21, 24, 27, 30])  # y = 3x\n",
        "\n",
        "# 데이터 분리\n",
        "'''답안 작성 시작'''\n",
        "X_train, X_test, y_train, y_test = train_test_split(X, y, test_size=0.2, random_state=42)\n",
        "'''답안 작성 끝'''\n",
        "\n",
        "# 모델 학습\n",
        "model = LinearRegression()\n",
        "'''답안 작성 시작'''\n",
        "model.fit(X_train, y_train)\n",
        "'''답안 작성 끝'''\n",
        "\n",
        "# 테스트 데이터 성능 평가\n",
        "'''답안 작성 시작'''\n",
        "y_pred = model.predict(X_test)\n",
        "'''답안 작성 끝'''\n",
        "\n",
        "print(\"테스트 데이터 MSE:\", mean_squared_error(y_test, y_pred))\n"
      ]
    },
    {
      "cell_type": "markdown",
      "metadata": {
        "id": "OOQB-kjr_t7Y"
      },
      "source": [
        "---\n",
        "# Q5. 경사하강법"
      ]
    },
    {
      "cell_type": "code",
      "execution_count": null,
      "metadata": {
        "colab": {
          "base_uri": "https://localhost:8080/"
        },
        "id": "YOj7mU19_t7Y",
        "outputId": "a6c5e7b8-9862-4882-b291-2c7969bb9b16"
      },
      "outputs": [
        {
          "name": "stdout",
          "output_type": "stream",
          "text": [
            "학습된 기울기와 절편: [[-2.41357138e+135]\n",
            " [-8.71375851e+135]]\n"
          ]
        }
      ],
      "source": [
        "# Q5: 경사하강법\n",
        "# 참고자료: 배상민 강사님 이론 강의자료 / 머신러닝 1. 회귀.pdf\n",
        "\n",
        "# 경사하강법을 구현하여 선형 회귀 모델을 학습하세요.\n",
        "\n",
        "import numpy as np\n",
        "\n",
        "# 데이터 생성\n",
        "X = np.array([1, 2, 3, 4, 5]).reshape(-1, 1)\n",
        "y = np.array([2, 4, 6, 8, 10]).reshape(-1, 1)  # y = 2x\n",
        "\n",
        "# 경사하강법 함수\n",
        "def gradient_descent(X, y, lr, iterations):\n",
        "    m = len(y)\n",
        "    theta = np.random.randn(2, 1)  # 초기화\n",
        "    X_b = np.c_[np.ones((m, 1)), X]  # X에 절편 항 추가\n",
        "    for i in range(iterations):\n",
        "        '''답안 작성 시작'''\n",
        "        gradients = (2 / m) * X_b.T.dot(____ - ____ )\n",
        "        theta -= ____ * gradients\n",
        "        '''답안 작성 끝'''\n",
        "    return theta\n",
        "\n",
        "# 학습 실행\n",
        "'''답안 작성 시작'''\n",
        "theta = gradient_descent(___, ___, lr=0.1, iterations=1000)\n",
        "'''답안 작성 끝'''\n",
        "\n",
        "print(\"학습된 기울기와 절편:\", theta)\n"
      ]
    },
    {
      "cell_type": "markdown",
      "metadata": {
        "id": "B8fOIsnM_t7Z"
      },
      "source": [
        "---\n",
        "# Q6. 학습 곡선"
      ]
    },
    {
      "cell_type": "code",
      "execution_count": 9,
      "metadata": {
        "colab": {
          "base_uri": "https://localhost:8080/",
          "height": 472
        },
        "id": "7MgveggV_t7Z",
        "outputId": "cd0f5ad5-0e6f-4bf7-c8b7-89bbaafa7af6"
      },
      "outputs": [
        {
          "output_type": "display_data",
          "data": {
            "text/plain": [
              "<Figure size 640x480 with 1 Axes>"
            ],
            "image/png": "[encoded data removed]"
          },
          "metadata": {}
        }
      ],
      "source": [
        "# Q6: 학습 곡선\n",
        "# 참고자료: 배상민 강사님 이론 강의자료 / 머신러닝 1. 회귀.pdf\n",
        "\n",
        "# 학습 데이터 크기를 점진적으로 늘려 학습 곡선을 시각화하세요.\n",
        "# 학습 데이터와 테스트 데이터의 성능 변화를 확인하세요.\n",
        "\n",
        "from sklearn.linear_model import LinearRegression\n",
        "from sklearn.metrics import mean_squared_error\n",
        "from sklearn.model_selection import train_test_split\n",
        "import numpy as np\n",
        "import matplotlib.pyplot as plt\n",
        "\n",
        "# 데이터 생성\n",
        "X = np.array([[i] for i in range(1, 101)])  # X = 1 ~ 100\n",
        "y = np.array([2 * i + 1 for i in range(1, 101)])  # y = 2x + 1\n",
        "\n",
        "train_sizes = [20, 40, 60, 80, 100]\n",
        "train_mse = []\n",
        "test_mse = []\n",
        "\n",
        "for size in train_sizes:\n",
        "    '''답안 작성 시작'''\n",
        "    X_train, X_test, y_train, y_test = train_test_split(X[:size], y[:size], test_size=0.2, random_state=42)\n",
        "    '''답안 작성 끝'''\n",
        "\n",
        "    # 모델 학습\n",
        "    model = LinearRegression()\n",
        "    '''답안 작성 시작'''\n",
        "    model.fit(X_train, y_train)\n",
        "    '''답안 작성 끝'''\n",
        "\n",
        "    # 학습 및 테스트 성능 계산\n",
        "    '''답안 작성 시작'''\n",
        "    train_mse.append(mean_squared_error(y_train, model.predict(X_train)))\n",
        "    test_mse.append(mean_squared_error(y_test, model.predict(X_test)))\n",
        "    '''답안 작성 끝'''\n",
        "\n",
        "# 학습 곡선 시각화\n",
        "plt.plot(train_sizes, train_mse, label='Train MSE', marker='o')\n",
        "plt.plot(train_sizes, test_mse, label='Test MSE', marker='o')\n",
        "plt.xlabel(\"Training Size\")\n",
        "plt.ylabel(\"MSE\")\n",
        "plt.title(\"Learning Curve\")\n",
        "plt.legend()\n",
        "plt.show()\n"
      ]
    },
    {
      "cell_type": "markdown",
      "metadata": {
        "id": "ZD8OZMnU_t7Z"
      },
      "source": [
        "---\n",
        "# Q7. 다항 회귀 시각화"
      ]
    },
    {
      "cell_type": "code",
      "execution_count": 10,
      "metadata": {
        "colab": {
          "base_uri": "https://localhost:8080/",
          "height": 472
        },
        "id": "-VjX2w05tCHN",
        "outputId": "ff8918da-7489-464e-9199-d525cc4e26ff"
      },
      "outputs": [
        {
          "output_type": "display_data",
          "data": {
            "text/plain": [
              "<Figure size 640x480 with 1 Axes>"
            ],
            "image/png": "[encoded data removed]"
          },
          "metadata": {}
        }
      ],
      "source": [
        "# Q7: 다항 회귀 시각화\n",
        "# 참고자료: 배상민 강사님 이론 강의자료 / 머신러닝 1. 회귀.pdf\n",
        "\n",
        "# 2차 다항 회귀를 학습하고, 데이터를 시각화하여 모델의 적합성을 확인하세요.\n",
        "\n",
        "import numpy as np\n",
        "import matplotlib.pyplot as plt\n",
        "from sklearn.preprocessing import PolynomialFeatures\n",
        "from sklearn.linear_model import LinearRegression\n",
        "\n",
        "# 데이터 생성\n",
        "X = np.array([1, 2, 3, 4, 5]).reshape(-1, 1)\n",
        "y = np.array([1, 4, 9, 16, 25])  # y = x^2\n",
        "\n",
        "# 2차 다항 회귀 데이터 변환\n",
        "poly = PolynomialFeatures(degree=2)\n",
        "'''답안 작성 시작'''\n",
        "X_poly = poly.fit_transform(X)\n",
        "'''답안 작성 끝'''\n",
        "\n",
        "# 모델 학습\n",
        "model = LinearRegression()\n",
        "'''답안 작성 시작'''\n",
        "model.fit(X_poly, y)\n",
        "'''답안 작성 끝'''\n",
        "\n",
        "# 예측값\n",
        "'''답안 작성 시작'''\n",
        "y_pred = model.predict(X_poly)\n",
        "'''답안 작성 끝'''\n",
        "\n",
        "# 시각화\n",
        "plt.scatter(X, y, color='blue', label='Data points')\n",
        "'''답안 작성 시작'''\n",
        "plt.plot(X, y_pred, color='red', label='Regression Line')\n",
        "'''답안 작성 끝'''\n",
        "plt.xlabel(\"X\")\n",
        "plt.ylabel(\"y\")\n",
        "plt.title(\"Polynomial Regression\")\n",
        "plt.legend()\n",
        "plt.show()\n"
      ]
    },
    {
      "cell_type": "markdown",
      "metadata": {
        "id": "ixI1YjxctCHN"
      },
      "source": [
        "---\n",
        "# Q8.과적합 실험"
      ]
    },
    {
      "cell_type": "code",
      "execution_count": 14,
      "metadata": {
        "colab": {
          "base_uri": "https://localhost:8080/"
        },
        "id": "z8emU7fJtCHN",
        "outputId": "d83fbd68-59dc-4197-8d6a-e8348695a463"
      },
      "outputs": [
        {
          "output_type": "stream",
          "name": "stdout",
          "text": [
            "Degree: 1\n",
            "Train MSE: 574766.7624503361\n",
            "Test MSE: 491878.2900834714\n",
            "Degree: 2\n",
            "Train MSE: 1.1062990955453419e-24\n",
            "Test MSE: 1.1318984207806689e-24\n",
            "Degree: 5\n",
            "Train MSE: 1.2789894024345979e-18\n",
            "Test MSE: 9.750978725648093e-19\n"
          ]
        }
      ],
      "source": [
        "# Q8: 과적합 실험\n",
        "# 참고자료: 배상민 강사님 이론 강의자료 / 머신러닝 1. 회귀.pdf\n",
        "\n",
        "# 다항 회귀에서 차수를 변경하여 과적합 여부를 확인하세요.\n",
        "# 학습 데이터와 테스트 데이터의 MSE를 비교하세요.\n",
        "\n",
        "from sklearn.preprocessing import PolynomialFeatures\n",
        "from sklearn.linear_model import LinearRegression\n",
        "from sklearn.metrics import mean_squared_error\n",
        "from sklearn.model_selection import train_test_split\n",
        "import numpy as np\n",
        "\n",
        "# 데이터 생성\n",
        "X = np.array([[i] for i in range(1, 101)])  # X = 1 ~ 100\n",
        "y = np.array([i**2 for i in range(1, 101)])  # y = x^2\n",
        "\n",
        "# 데이터 분리\n",
        "'''답안 작성 시작'''\n",
        "X_train, X_test, y_train, y_test = train_test_split(X, y, test_size=0.2, random_state=42)\n",
        "'''답안 작성 끝'''\n",
        "\n",
        "# 차수 변경 실험\n",
        "for degree in [1, 2, 5]:\n",
        "    '''답안 작성 시작'''\n",
        "    poly = PolynomialFeatures(degree=degree)\n",
        "    X_poly_train = poly.fit_transform(X_train)\n",
        "    X_poly_test = poly.transform(X_test)\n",
        "    '''답안 작성 끝'''\n",
        "\n",
        "    # 모델 학습 및 평가\n",
        "    model = LinearRegression()\n",
        "    model.fit(X_poly_train, y_train)\n",
        "\n",
        "    '''답안 작성 시작'''\n",
        "    y_train_pred = model.predict(X_poly_train)\n",
        "    y_test_pred = model.predict(X_poly_test)\n",
        "    '''답안 작성 끝'''\n",
        "\n",
        "    # 성능 출력\n",
        "    print(f\"Degree: {degree}\")\n",
        "    print(\"Train MSE:\", mean_squared_error(y_train, y_train_pred))\n",
        "    print(\"Test MSE:\", mean_squared_error(y_test, y_test_pred))\n"
      ]
    },
    {
      "cell_type": "markdown",
      "metadata": {
        "id": "SzzJh_-R_t7a"
      },
      "source": [
        "---\n",
        "# Q9. 다중 선형 회귀와 변수 선택"
      ]
    },
    {
      "cell_type": "code",
      "execution_count": 16,
      "metadata": {
        "colab": {
          "base_uri": "https://localhost:8080/"
        },
        "id": "KlrgUq2h_t7a",
        "outputId": "22f69421-e43d-49bb-a270-18feb830d26f"
      },
      "outputs": [
        {
          "output_type": "stream",
          "name": "stdout",
          "text": [
            "전체 변수 사용 시 테스트 데이터 MSE: 5.048709793414476e-29\n",
            "두 번째 변수 제거 후 테스트 데이터 MSE: 0.0\n"
          ]
        }
      ],
      "source": [
        "# Q9: 다중 선형 회귀와 변수 선택\n",
        "# 참고자료: 배상민 강사님 이론 강의자료 / 머신러닝 1. 회귀.pdf\n",
        "\n",
        "# 주어진 데이터에서 독립 변수 중 하나를 제거한 후, 다중 선형 회귀 모델의 성능 변화를 비교하세요.\n",
        "# 학습 데이터와 테스트 데이터의 MSE를 계산하세요.\n",
        "\n",
        "from sklearn.model_selection import train_test_split\n",
        "from sklearn.linear_model import LinearRegression\n",
        "from sklearn.metrics import mean_squared_error\n",
        "import numpy as np\n",
        "\n",
        "# 데이터 생성\n",
        "X = np.array([[1, 2, 3], [2, 3, 4], [3, 4, 5], [4, 5, 6], [5, 6, 7]])  # 3개의 독립 변수\n",
        "y = np.array([10, 15, 20, 25, 30])  # 종속 변수\n",
        "\n",
        "# 데이터 분리\n",
        "'''답안 작성 시작'''\n",
        "X_train, X_test, y_train, y_test = train_test_split(X, y, test_size=0.2, random_state=42)\n",
        "'''답안 작성 끝'''\n",
        "\n",
        "# 모델 학습 (전체 변수 사용)\n",
        "'''답안 작성 시작'''\n",
        "model = LinearRegression()\n",
        "model.fit(X_train, y_train)\n",
        "'''답안 작성 끝'''\n",
        "\n",
        "# 전체 변수 사용 시 테스트 데이터 MSE\n",
        "mse_all = mean_squared_error(y_test, model.predict(X_test))\n",
        "\n",
        "# 두 번째 변수를 제거한 데이터 생성\n",
        "X_reduced = X[:, [0, 2]]  # 두 번째 변수 제거\n",
        "X_train_reduced, X_test_reduced, y_train_reduced, y_test_reduced = train_test_split(\n",
        "    X_reduced, y, test_size=0.2, random_state=42\n",
        ")\n",
        "\n",
        "# 모델 학습 (두 번째 변수 제거)\n",
        "'''답안 작성 시작'''\n",
        "model_reduced = LinearRegression()\n",
        "model_reduced.fit(X_train_reduced, y_train_reduced)\n",
        "'''답안 작성 끝'''\n",
        "\n",
        "# 변수 제거 후 테스트 데이터 MSE\n",
        "mse_reduced = mean_squared_error(y_test_reduced, model_reduced.predict(X_test_reduced))\n",
        "\n",
        "print(\"전체 변수 사용 시 테스트 데이터 MSE:\", mse_all)\n",
        "print(\"두 번째 변수 제거 후 테스트 데이터 MSE:\", mse_reduced)\n"
      ]
    },
    {
      "cell_type": "markdown",
      "metadata": {
        "id": "RCcNMBVi_t7a"
      },
      "source": [
        "---\n",
        "# Q10. 모델 평가 지표 비교"
      ]
    },
    {
      "cell_type": "code",
      "execution_count": 17,
      "metadata": {
        "colab": {
          "base_uri": "https://localhost:8080/"
        },
        "id": "yfMksjn3_t7a",
        "outputId": "07b5d3e7-beff-4111-e155-00b14a805722"
      },
      "outputs": [
        {
          "output_type": "stream",
          "name": "stdout",
          "text": [
            "MSE: 0.01600000000000012\n",
            "MAE: 0.12000000000000055\n",
            "R²: 0.9983576942026605\n"
          ]
        }
      ],
      "source": [
        "# Q10: 모델 평가 지표 비교\n",
        "# 참고자료: 배상민 강사님 이론 강의자료 / 머신러닝 1. 회귀.pdf\n",
        "\n",
        "# 고정된 데이터를 사용하여 MSE, MAE, R² 평가 지표를 계산하고 비교하세요.\n",
        "\n",
        "from sklearn.metrics import mean_squared_error, mean_absolute_error, r2_score\n",
        "\n",
        "# 데이터 생성\n",
        "X = np.array([[1], [2], [3], [4], [5]])\n",
        "y_true = np.array([2.5, 4.1, 6.3, 8.7, 11.2])  # 실제값\n",
        "y_pred = np.array([2.4, 4.0, 6.1, 8.8, 11.3])  # 예측값\n",
        "# 평가 지표 계산\n",
        "'''답안 작성 시작'''\n",
        "mse = mean_squared_error(y_true, y_pred)\n",
        "mae = mean_absolute_error(y_true, y_pred)\n",
        "'''답안 작성 끝'''\n",
        "\n",
        "r2 = r2_score(y_true, y_pred)\n",
        "\n",
        "print(\"MSE:\", mse)\n",
        "print(\"MAE:\", mae)\n",
        "print(\"R²:\", r2)\n"
      ]
    },
    {
      "cell_type": "markdown",
      "source": [
        "[주관식 과제 수행 시 유의사항]\n",
        "\n",
        "※ 주관식 과제의 채점 기준은 다음과 같습니다\n",
        "\n",
        "결과 출력값이 주어진 것과 동일하게 표기되어 있는가 (일부 변동성을 띠는 숫자는 제외)\n",
        "문제 내에서 요구하는 요구사항들을 모두 이행하였는가\n",
        "따라서 문제 내에서 요구하는 작은 요소라도 반드시 놓치지 마시고, 모두 고려하여 코드를 작성해주시기 바랍니다.\n",
        "\n",
        "실제 현업에서의 데이터 분석가는 세심함과 정확성이 요구되는 작업입니다.\n",
        "\n",
        "특히, 조건과 컬럼 하나하나를 명확하게 설정하고 관리하는 것이 중요합니다.\n",
        "\n",
        "이러한 부분을 주관식 문제를 통해 반영하고자 하였습니다.\n",
        "\n",
        "과제 평가 시 해당 내용들을 기준으로 평가하므로, 이 점을 유념하여 과제를 수행해주시기 바랍니다.\n",
        "\n",
        "만약 위 기준에 부합하지 않는 항목이 있을 경우, 해당 문제는 오답으로 0점 처리되오니 참고하시기 바랍니다."
      ],
      "metadata": {
        "id": "x4E8w7dijXOW"
      }
    },
    {
      "cell_type": "code",
      "execution_count": null,
      "metadata": {
        "id": "GIXOCc9RtCHO"
      },
      "outputs": [],
      "source": []
    }
  ],
  "metadata": {
    "colab": {
      "provenance": [],
      "include_colab_link": true
    },
    "kernelspec": {
      "display_name": "base",
      "language": "python",
      "name": "python3"
    },
    "language_info": {
      "codemirror_mode": {
        "name": "ipython",
        "version": 3
      },
      "file_extension": ".py",
      "mimetype": "text/x-python",
      "name": "python",
      "nbconvert_exporter": "python",
      "pygments_lexer": "ipython3",
      "version": "3.12.4"
    }
  },
  "nbformat": 4,
  "nbformat_minor": 0
}